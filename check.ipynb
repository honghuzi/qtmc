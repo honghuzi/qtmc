{
 "cells": [
  {
   "cell_type": "code",
   "execution_count": 5,
   "metadata": {},
   "outputs": [
    {
     "data": {
      "text/plain": [
       "0.7869353106542157"
      ]
     },
     "execution_count": 5,
     "metadata": {},
     "output_type": "execute_result"
    }
   ],
   "source": [
    "const ne = Int(5e5)\n",
    "const R_init = 0.5\n",
    "const Ip1, Ip2 = -0.9, -2.0\n",
    "const s1, s2 = 0.707^2, 0.582^2\n",
    "const Ek = Ip2 + 2/sqrt(R_init^2 + s1)\n",
    "const p_init = sqrt(2Ek)"
   ]
  },
  {
   "cell_type": "code",
   "execution_count": 10,
   "metadata": {
    "scrolled": true
   },
   "outputs": [],
   "source": [
    "x = Array{Float64}(ne)\n",
    "y = similar(x)\n",
    "px = similar(x)\n",
    "py = similar(x)\n",
    "rand1 = rand(ne)\n",
    "@. x = R_init * sin(2pi*rand1)\n",
    "@. y = R_init * cos(2pi*rand1)\n",
    "rand1 = rand(ne)\n",
    "@. px = p_init * sin(2pi*rand1)\n",
    "@. py = p_init * cos(2pi*rand1);"
   ]
  },
  {
   "cell_type": "code",
   "execution_count": 11,
   "metadata": {},
   "outputs": [
    {
     "data": {
      "text/plain": [
       "Eq1 (generic function with 1 method)"
      ]
     },
     "execution_count": 11,
     "metadata": {},
     "output_type": "execute_result"
    }
   ],
   "source": [
    "function Eq1(t, u, du)\n",
    "    r = sqrt( u[1]^2 + u[2]^2 + s1 )\n",
    "\n",
    "    du[1] = u[3]\n",
    "    du[2] = u[4]\n",
    "\n",
    "    du[3] = -2u[1]/r^3\n",
    "    du[4] = -2u[2]/r^3\n",
    "end"
   ]
  },
  {
   "cell_type": "code",
   "execution_count": 7,
   "metadata": {
    "collapsed": true
   },
   "outputs": [],
   "source": [
    "using DifferentialEquations"
   ]
  },
  {
   "cell_type": "code",
   "execution_count": 25,
   "metadata": {
    "scrolled": true
   },
   "outputs": [
    {
     "name": "stdout",
     "output_type": "stream",
     "text": [
      "i=10000\n",
      "i=20000\n",
      "i=30000\n",
      "i=40000\n",
      "i=50000\n",
      "i=60000\n",
      "i=70000\n",
      "i=80000\n",
      "i=90000\n",
      "i=100000\n",
      "i=110000\n",
      "i=120000\n",
      "i=130000\n",
      "i=140000\n",
      "i=150000\n",
      "i=160000\n",
      "i=170000\n",
      "i=180000\n",
      "i=190000\n",
      "i=200000\n",
      "i=210000\n",
      "i=220000\n",
      "i=230000\n",
      "i=240000\n",
      "i=250000\n",
      "i=260000\n",
      "i=270000\n",
      "i=280000\n",
      "i=290000\n",
      "i=300000\n",
      "i=310000\n",
      "i=320000\n",
      "i=330000\n",
      "i=340000\n",
      "i=350000\n",
      "i=360000\n",
      "i=370000\n",
      "i=380000\n",
      "i=390000\n",
      "i=400000\n",
      "i=410000\n",
      "i=420000\n",
      "i=430000\n",
      "i=440000\n",
      "i=450000\n",
      "i=460000\n",
      "i=470000\n",
      "i=480000\n",
      "i=490000\n",
      "i=500000\n"
     ]
    }
   ],
   "source": [
    "u0 =  [x[1], y[1], px[1], py[1]]\n",
    "prob = ODEProblem(Eq1, u0, (0.0, 100.0)) # Dummy allocate u0\n",
    "@simd @time for i in 1:ne\n",
    "    prob.u0[1] = x[i]; prob.u0[2] = y[i]; prob.u0[3] = px[i]; prob.u0[4] = py[i] # Best to not allocate\n",
    "    sol = solve(prob; save_everystep=false, dense=false) # Only need solution at the end\n",
    "    \n",
    "    x[i] = sol.u[2][1]\n",
    "    y[i] = sol.u[2][2]\n",
    "    px[i] = sol.u[2][3]\n",
    "    py[i] = sol.u[2][4]\n",
    "    if mod(i, Int(1e4)) == 0\n",
    "        println(\"i=$(i)\")\n",
    "    end\n",
    "end"
   ]
  }
 ],
 "metadata": {
  "kernelspec": {
   "display_name": "Julia 0.6.0-rc1",
   "language": "julia",
   "name": "julia-0.6"
  },
  "language_info": {
   "file_extension": ".jl",
   "mimetype": "application/julia",
   "name": "julia",
   "version": "0.6.0"
  }
 },
 "nbformat": 4,
 "nbformat_minor": 2
}
